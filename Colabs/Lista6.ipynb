{
  "nbformat": 4,
  "nbformat_minor": 0,
  "metadata": {
    "colab": {
      "name": "TransferLearning",
      "provenance": [],
      "collapsed_sections": []
    },
    "kernelspec": {
      "name": "python3",
      "display_name": "Python 3"
    },
    "language_info": {
      "name": "python"
    },
    "accelerator": "GPU"
  },
  "cells": [
    {
      "cell_type": "markdown",
      "metadata": {
        "id": "iEocbgMnQoBw"
      },
      "source": [
        "### Transfer Learning"
      ]
    },
    {
      "cell_type": "markdown",
      "metadata": {
        "id": "Y71nUmkDQx0s"
      },
      "source": [
        "`Nome`: Pedro Henrique Gomes Peixoto Januario\n",
        "\n",
        "`DRE`: 119042303\n",
        "\n",
        "\n",
        "`Nome` : Mayara Aragão\n",
        "\n",
        "`DRE`: 115060969\n",
        "\n",
        "\n"
      ]
    },
    {
      "cell_type": "markdown",
      "metadata": {
        "id": "SiMPVcEeQrhg"
      },
      "source": [
        "Para essa lista, optamos por usar o mesmo dataset anterior para comparar o modelo original com o modelo obtido por transfer learning."
      ]
    },
    {
      "cell_type": "code",
      "metadata": {
        "id": "6Wdl-zWuPBga"
      },
      "source": [
        "import numpy as np\n",
        "import pandas as pd\n",
        "import cv2,os,pathlib\n",
        "import matplotlib.pyplot as plt"
      ],
      "execution_count": null,
      "outputs": []
    },
    {
      "cell_type": "code",
      "metadata": {
        "colab": {
          "resources": {
            "http://localhost:8080/nbextensions/google.colab/files.js": {
              "data": "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",
              "ok": true,
              "headers": [
                [
                  "content-type",
                  "application/javascript"
                ]
              ],
              "status": 200,
              "status_text": ""
            }
          },
          "base_uri": "https://localhost:8080/",
          "height": 140
        },
        "id": "B0ouzTJtOMcp",
        "outputId": "9a899d7c-34fd-40c2-a4b7-feb3920abb4a"
      },
      "source": [
        "# Importando dataset atraves da API do kaggle:\n",
        "from google.colab import files\n",
        "files.upload() #this will prompt you to update the json\n",
        "\n",
        "!pip install -q kaggle\n",
        "!mkdir -p ~/.kaggle\n",
        "!cp kaggle.json ~/.kaggle/\n",
        "!ls ~/.kaggle\n",
        "!chmod 600 /root/.kaggle/kaggle.json  # set permission\n",
        "!kaggle datasets download -d crowww/a-large-scale-fish-dataset"
      ],
      "execution_count": null,
      "outputs": [
        {
          "output_type": "display_data",
          "data": {
            "text/html": [
              "\n",
              "     <input type=\"file\" id=\"files-422a6f54-eade-40be-a5c1-9eb46327178c\" name=\"files[]\" multiple disabled\n",
              "        style=\"border:none\" />\n",
              "     <output id=\"result-422a6f54-eade-40be-a5c1-9eb46327178c\">\n",
              "      Upload widget is only available when the cell has been executed in the\n",
              "      current browser session. Please rerun this cell to enable.\n",
              "      </output>\n",
              "      <script src=\"/nbextensions/google.colab/files.js\"></script> "
            ],
            "text/plain": [
              "<IPython.core.display.HTML object>"
            ]
          },
          "metadata": {}
        },
        {
          "output_type": "stream",
          "name": "stdout",
          "text": [
            "Saving kaggle.json to kaggle.json\n",
            "kaggle.json\n",
            "Downloading a-large-scale-fish-dataset.zip to /content\n",
            "100% 3.24G/3.24G [00:50<00:00, 36.5MB/s]\n",
            "100% 3.24G/3.24G [00:50<00:00, 68.7MB/s]\n"
          ]
        }
      ]
    },
    {
      "cell_type": "code",
      "metadata": {
        "id": "FAg6g20CPA9w"
      },
      "source": [
        "!unzip -q a-large-scale-fish-dataset.zip -d nemo_dataset"
      ],
      "execution_count": null,
      "outputs": []
    },
    {
      "cell_type": "code",
      "metadata": {
        "colab": {
          "base_uri": "https://localhost:8080/"
        },
        "id": "KdT30pheQgm3",
        "outputId": "03de04cc-17c7-435c-bfd2-4226dd3df7d4"
      },
      "source": [
        "%cd nemo_dataset/Fish_Dataset/Fish_Dataset"
      ],
      "execution_count": null,
      "outputs": [
        {
          "output_type": "stream",
          "name": "stdout",
          "text": [
            "/content/nemo_dataset/Fish_Dataset/Fish_Dataset\n"
          ]
        }
      ]
    },
    {
      "cell_type": "code",
      "metadata": {
        "colab": {
          "base_uri": "https://localhost:8080/"
        },
        "id": "z5l9ztDab_-B",
        "outputId": "96b105fb-a4ad-4395-f71a-6dbfab926fab"
      },
      "source": [
        "!ls"
      ],
      "execution_count": null,
      "outputs": [
        {
          "output_type": "stream",
          "name": "stdout",
          "text": [
            "'Black Sea Sprat'   README.txt\t     Segmentation_example_script.m\n",
            "'Gilt-Head Bream'  'Red Mullet'      Shrimp\n",
            "'Hourse Mackerel'  'Red Sea Bream'  'Striped Red Mullet'\n",
            " license.txt\t   'Sea Bass'\t     Trout\n"
          ]
        }
      ]
    },
    {
      "cell_type": "code",
      "metadata": {
        "id": "ZyI-fMaCTNOz"
      },
      "source": [
        "datasetPath = pathlib.Path()\n",
        "## Listando os Paths para as imagens, testando extensoes jpg e png\n",
        "allImages = list(datasetPath.glob(r'*/*/*.jpg')) + list(datasetPath.glob(r'*/*/*.png'))\n",
        "\n",
        "## Iniciando array das imagens e labels\n",
        "images = list()\n",
        "labels = list()\n",
        "\n",
        "for img in allImages:\n",
        "  imgPath = os.path.normpath(img)\n",
        "  splits = imgPath.split('/')\n",
        "  \n",
        "  # Excluindo imagens 'Ground Truth' (GT), jogando o caminho das imgs e seus labels para os arrays 'images' e 'labels'\n",
        "  if 'GT' not in splits[-2]:\n",
        "    images.append(img)\n",
        "    labels.append(splits[-2]) # Pegando a Label do proprio Path da imagem"
      ],
      "execution_count": null,
      "outputs": []
    },
    {
      "cell_type": "code",
      "metadata": {
        "colab": {
          "base_uri": "https://localhost:8080/",
          "height": 419
        },
        "id": "3d08afNOTWNb",
        "outputId": "01d2afed-12e5-4053-843b-13540d60bc83"
      },
      "source": [
        "imgpathes = pd.Series(images).astype(str)\n",
        "label = pd.Series(labels)\n",
        "\n",
        "df = pd.concat([imgpathes,label], axis=1)\n",
        "df.columns = ['Img','Label']\n",
        "df"
      ],
      "execution_count": null,
      "outputs": [
        {
          "output_type": "execute_result",
          "data": {
            "text/html": [
              "<div>\n",
              "<style scoped>\n",
              "    .dataframe tbody tr th:only-of-type {\n",
              "        vertical-align: middle;\n",
              "    }\n",
              "\n",
              "    .dataframe tbody tr th {\n",
              "        vertical-align: top;\n",
              "    }\n",
              "\n",
              "    .dataframe thead th {\n",
              "        text-align: right;\n",
              "    }\n",
              "</style>\n",
              "<table border=\"1\" class=\"dataframe\">\n",
              "  <thead>\n",
              "    <tr style=\"text-align: right;\">\n",
              "      <th></th>\n",
              "      <th>Img</th>\n",
              "      <th>Label</th>\n",
              "    </tr>\n",
              "  </thead>\n",
              "  <tbody>\n",
              "    <tr>\n",
              "      <th>0</th>\n",
              "      <td>Red Mullet/Red Mullet/00764.png</td>\n",
              "      <td>Red Mullet</td>\n",
              "    </tr>\n",
              "    <tr>\n",
              "      <th>1</th>\n",
              "      <td>Red Mullet/Red Mullet/00016.png</td>\n",
              "      <td>Red Mullet</td>\n",
              "    </tr>\n",
              "    <tr>\n",
              "      <th>2</th>\n",
              "      <td>Red Mullet/Red Mullet/00330.png</td>\n",
              "      <td>Red Mullet</td>\n",
              "    </tr>\n",
              "    <tr>\n",
              "      <th>3</th>\n",
              "      <td>Red Mullet/Red Mullet/00165.png</td>\n",
              "      <td>Red Mullet</td>\n",
              "    </tr>\n",
              "    <tr>\n",
              "      <th>4</th>\n",
              "      <td>Red Mullet/Red Mullet/00838.png</td>\n",
              "      <td>Red Mullet</td>\n",
              "    </tr>\n",
              "    <tr>\n",
              "      <th>...</th>\n",
              "      <td>...</td>\n",
              "      <td>...</td>\n",
              "    </tr>\n",
              "    <tr>\n",
              "      <th>8995</th>\n",
              "      <td>Black Sea Sprat/Black Sea Sprat/00133.png</td>\n",
              "      <td>Black Sea Sprat</td>\n",
              "    </tr>\n",
              "    <tr>\n",
              "      <th>8996</th>\n",
              "      <td>Black Sea Sprat/Black Sea Sprat/00783.png</td>\n",
              "      <td>Black Sea Sprat</td>\n",
              "    </tr>\n",
              "    <tr>\n",
              "      <th>8997</th>\n",
              "      <td>Black Sea Sprat/Black Sea Sprat/00789.png</td>\n",
              "      <td>Black Sea Sprat</td>\n",
              "    </tr>\n",
              "    <tr>\n",
              "      <th>8998</th>\n",
              "      <td>Black Sea Sprat/Black Sea Sprat/00649.png</td>\n",
              "      <td>Black Sea Sprat</td>\n",
              "    </tr>\n",
              "    <tr>\n",
              "      <th>8999</th>\n",
              "      <td>Black Sea Sprat/Black Sea Sprat/00157.png</td>\n",
              "      <td>Black Sea Sprat</td>\n",
              "    </tr>\n",
              "  </tbody>\n",
              "</table>\n",
              "<p>9000 rows × 2 columns</p>\n",
              "</div>"
            ],
            "text/plain": [
              "                                            Img            Label\n",
              "0               Red Mullet/Red Mullet/00764.png       Red Mullet\n",
              "1               Red Mullet/Red Mullet/00016.png       Red Mullet\n",
              "2               Red Mullet/Red Mullet/00330.png       Red Mullet\n",
              "3               Red Mullet/Red Mullet/00165.png       Red Mullet\n",
              "4               Red Mullet/Red Mullet/00838.png       Red Mullet\n",
              "...                                         ...              ...\n",
              "8995  Black Sea Sprat/Black Sea Sprat/00133.png  Black Sea Sprat\n",
              "8996  Black Sea Sprat/Black Sea Sprat/00783.png  Black Sea Sprat\n",
              "8997  Black Sea Sprat/Black Sea Sprat/00789.png  Black Sea Sprat\n",
              "8998  Black Sea Sprat/Black Sea Sprat/00649.png  Black Sea Sprat\n",
              "8999  Black Sea Sprat/Black Sea Sprat/00157.png  Black Sea Sprat\n",
              "\n",
              "[9000 rows x 2 columns]"
            ]
          },
          "metadata": {},
          "execution_count": 7
        }
      ]
    },
    {
      "cell_type": "code",
      "metadata": {
        "id": "VgHvFf8KTkAh"
      },
      "source": [
        "from sklearn.model_selection import train_test_split"
      ],
      "execution_count": null,
      "outputs": []
    },
    {
      "cell_type": "code",
      "metadata": {
        "colab": {
          "base_uri": "https://localhost:8080/"
        },
        "id": "MVqV7hP0TY-6",
        "outputId": "a6933de6-1257-4c7f-f9a5-ca83c578f639"
      },
      "source": [
        "# Separando o dataframe em Treino, Validacao e Teste (e mais shuffles)\n",
        "\n",
        "allTrain, test = train_test_split(df,test_size=0.15,random_state=0)\n",
        "train, validation = train_test_split(allTrain,test_size=0.25,random_state=0)\n",
        "del allTrain\n",
        "\n",
        "from keras.preprocessing.image import ImageDataGenerator\n",
        "\n",
        "# Preparando o objeto para ja fazer normalizacao e uns flips aleatorios\n",
        "\n",
        "imgDataGenObject = ImageDataGenerator(rescale=1.0/255,\n",
        "                                      horizontal_flip=True,\n",
        "                                      vertical_flip=True)\n",
        "\n",
        "# Gerando os geradores:\n",
        "\n",
        "train_generator = imgDataGenObject.flow_from_dataframe(dataframe=train,\n",
        "                                                       x_col='Img',y_col='Label',\n",
        "                                                       color_mode='rgb',\n",
        "                                                       class_mode='categorical',\n",
        "                                                       target_size=(224,224),\n",
        "                                                       batch_size=64)\n",
        "#----------------------------------\n",
        "validation_generator = imgDataGenObject.flow_from_dataframe(dataframe=validation,\n",
        "                                                       x_col='Img',y_col='Label',\n",
        "                                                       color_mode='rgb',\n",
        "                                                       class_mode='categorical',\n",
        "                                                       target_size=(224,224),\n",
        "                                                       batch_size=64)\n",
        "\n",
        "#----------------------------------\n",
        "test_generator = imgDataGenObject.flow_from_dataframe(dataframe=test,\n",
        "                                                       x_col='Img',y_col='Label',\n",
        "                                                       color_mode='rgb',\n",
        "                                                       class_mode='categorical',\n",
        "                                                       target_size=(224,224),\n",
        "                                                       batch_size=64,\n",
        "                                                      shuffle=False)\n"
      ],
      "execution_count": null,
      "outputs": [
        {
          "output_type": "stream",
          "name": "stdout",
          "text": [
            "Found 5737 validated image filenames belonging to 9 classes.\n",
            "Found 1913 validated image filenames belonging to 9 classes.\n",
            "Found 1350 validated image filenames belonging to 9 classes.\n"
          ]
        }
      ]
    },
    {
      "cell_type": "markdown",
      "metadata": {
        "id": "LAehbXx5T5F1"
      },
      "source": [
        "### Criando o modelo"
      ]
    },
    {
      "cell_type": "code",
      "metadata": {
        "id": "N9MSu0omTvKg"
      },
      "source": [
        "from keras.models import Sequential\n",
        "from tensorflow.keras.callbacks import ModelCheckpoint, ReduceLROnPlateau, EarlyStopping\n",
        "from tensorflow.keras.applications import VGG19\n",
        "from tensorflow import keras\n",
        "from tensorflow.keras.models import Sequential\n",
        "from tensorflow.keras.layers import GlobalAveragePooling2D,BatchNormalization,Flatten,Dense,Dropout"
      ],
      "execution_count": null,
      "outputs": []
    },
    {
      "cell_type": "code",
      "metadata": {
        "id": "3w2Nfxr4VNho"
      },
      "source": [
        "checkpoint = ModelCheckpoint('/tmp/checkpoint', monitor='val_accuracy', verbose=1, save_best_only=True, mode='max')\n",
        "earlyStop = EarlyStopping(monitor='loss',patience=5,restore_best_weights=True)\n",
        "lr_reduce = ReduceLROnPlateau(monitor='val_accuracy', factor=0.1, min_delta=1e-5, patience=3, verbose=1)\n",
        "callbacks = [checkpoint,lr_reduce,earlyStop]"
      ],
      "execution_count": null,
      "outputs": []
    },
    {
      "cell_type": "code",
      "metadata": {
        "colab": {
          "base_uri": "https://localhost:8080/"
        },
        "id": "GpVEHaSSVRSz",
        "outputId": "43007bec-aebc-4a5a-b698-2ca710883558"
      },
      "source": [
        "#  Usando a VGG 19\n",
        "size = (224,224,3)\n",
        "conv_base = VGG19(weights='imagenet', include_top=False, input_shape=size)\n",
        "conv_base.summary()"
      ],
      "execution_count": null,
      "outputs": [
        {
          "output_type": "stream",
          "name": "stdout",
          "text": [
            "Downloading data from https://storage.googleapis.com/tensorflow/keras-applications/vgg19/vgg19_weights_tf_dim_ordering_tf_kernels_notop.h5\n",
            "80142336/80134624 [==============================] - 1s 0us/step\n",
            "80150528/80134624 [==============================] - 1s 0us/step\n",
            "Model: \"vgg19\"\n",
            "_________________________________________________________________\n",
            "Layer (type)                 Output Shape              Param #   \n",
            "=================================================================\n",
            "input_1 (InputLayer)         [(None, 224, 224, 3)]     0         \n",
            "_________________________________________________________________\n",
            "block1_conv1 (Conv2D)        (None, 224, 224, 64)      1792      \n",
            "_________________________________________________________________\n",
            "block1_conv2 (Conv2D)        (None, 224, 224, 64)      36928     \n",
            "_________________________________________________________________\n",
            "block1_pool (MaxPooling2D)   (None, 112, 112, 64)      0         \n",
            "_________________________________________________________________\n",
            "block2_conv1 (Conv2D)        (None, 112, 112, 128)     73856     \n",
            "_________________________________________________________________\n",
            "block2_conv2 (Conv2D)        (None, 112, 112, 128)     147584    \n",
            "_________________________________________________________________\n",
            "block2_pool (MaxPooling2D)   (None, 56, 56, 128)       0         \n",
            "_________________________________________________________________\n",
            "block3_conv1 (Conv2D)        (None, 56, 56, 256)       295168    \n",
            "_________________________________________________________________\n",
            "block3_conv2 (Conv2D)        (None, 56, 56, 256)       590080    \n",
            "_________________________________________________________________\n",
            "block3_conv3 (Conv2D)        (None, 56, 56, 256)       590080    \n",
            "_________________________________________________________________\n",
            "block3_conv4 (Conv2D)        (None, 56, 56, 256)       590080    \n",
            "_________________________________________________________________\n",
            "block3_pool (MaxPooling2D)   (None, 28, 28, 256)       0         \n",
            "_________________________________________________________________\n",
            "block4_conv1 (Conv2D)        (None, 28, 28, 512)       1180160   \n",
            "_________________________________________________________________\n",
            "block4_conv2 (Conv2D)        (None, 28, 28, 512)       2359808   \n",
            "_________________________________________________________________\n",
            "block4_conv3 (Conv2D)        (None, 28, 28, 512)       2359808   \n",
            "_________________________________________________________________\n",
            "block4_conv4 (Conv2D)        (None, 28, 28, 512)       2359808   \n",
            "_________________________________________________________________\n",
            "block4_pool (MaxPooling2D)   (None, 14, 14, 512)       0         \n",
            "_________________________________________________________________\n",
            "block5_conv1 (Conv2D)        (None, 14, 14, 512)       2359808   \n",
            "_________________________________________________________________\n",
            "block5_conv2 (Conv2D)        (None, 14, 14, 512)       2359808   \n",
            "_________________________________________________________________\n",
            "block5_conv3 (Conv2D)        (None, 14, 14, 512)       2359808   \n",
            "_________________________________________________________________\n",
            "block5_conv4 (Conv2D)        (None, 14, 14, 512)       2359808   \n",
            "_________________________________________________________________\n",
            "block5_pool (MaxPooling2D)   (None, 7, 7, 512)         0         \n",
            "=================================================================\n",
            "Total params: 20,024,384\n",
            "Trainable params: 20,024,384\n",
            "Non-trainable params: 0\n",
            "_________________________________________________________________\n"
          ]
        }
      ]
    },
    {
      "cell_type": "code",
      "metadata": {
        "id": "uQhAV2G6VibV"
      },
      "source": [
        "conv_base.trainable = True\n",
        "set_trainable = False\n",
        "\n",
        "# Deixando o bloco 5 livre para treinamento:\n",
        "for layer in conv_base.layers:\n",
        "    if layer.name == 'block5_conv1':\n",
        "        set_trainable = True\n",
        "    if set_trainable:\n",
        "        layer.trainable = True\n",
        "    else:\n",
        "        layer.trainable = False"
      ],
      "execution_count": null,
      "outputs": []
    },
    {
      "cell_type": "code",
      "metadata": {
        "id": "KBqzYvJ3Weiu"
      },
      "source": [
        "model = Sequential()\n",
        "model.add(conv_base)\n",
        "model.add(GlobalAveragePooling2D())\n",
        "model.add(BatchNormalization())\n",
        "model.add(Flatten())\n",
        "model.add(Dense(512, activation='relu'))\n",
        "model.add(Dropout(0.5))\n",
        "model.add(Dense(9, activation='softmax'))"
      ],
      "execution_count": null,
      "outputs": []
    },
    {
      "cell_type": "code",
      "metadata": {
        "id": "r1KNQVIXW6_I"
      },
      "source": [
        "model.compile(optimizer='rmsprop',loss='categorical_crossentropy',metrics=['accuracy'])"
      ],
      "execution_count": null,
      "outputs": []
    },
    {
      "cell_type": "code",
      "metadata": {
        "colab": {
          "base_uri": "https://localhost:8080/"
        },
        "id": "QvN7tj-zXLIa",
        "outputId": "1f93a834-d269-426a-ad32-0b45757ba17f"
      },
      "source": [
        "model.summary()"
      ],
      "execution_count": null,
      "outputs": [
        {
          "output_type": "stream",
          "name": "stdout",
          "text": [
            "Model: \"sequential\"\n",
            "_________________________________________________________________\n",
            "Layer (type)                 Output Shape              Param #   \n",
            "=================================================================\n",
            "vgg19 (Functional)           (None, 7, 7, 512)         20024384  \n",
            "_________________________________________________________________\n",
            "global_average_pooling2d (Gl (None, 512)               0         \n",
            "_________________________________________________________________\n",
            "batch_normalization (BatchNo (None, 512)               2048      \n",
            "_________________________________________________________________\n",
            "flatten (Flatten)            (None, 512)               0         \n",
            "_________________________________________________________________\n",
            "dense (Dense)                (None, 512)               262656    \n",
            "_________________________________________________________________\n",
            "dropout (Dropout)            (None, 512)               0         \n",
            "_________________________________________________________________\n",
            "dense_1 (Dense)              (None, 9)                 4617      \n",
            "=================================================================\n",
            "Total params: 20,293,705\n",
            "Trainable params: 9,707,529\n",
            "Non-trainable params: 10,586,176\n",
            "_________________________________________________________________\n"
          ]
        }
      ]
    },
    {
      "cell_type": "code",
      "metadata": {
        "id": "lzJJNrduXMAy",
        "colab": {
          "base_uri": "https://localhost:8080/"
        },
        "outputId": "68afeb01-d4c7-49b7-c1e2-1c2503dbe76c"
      },
      "source": [
        "history = model.fit(train_generator,\n",
        "                   validation_data=validation_generator,\n",
        "                   callbacks=callbacks,\n",
        "                   epochs=15,\n",
        "                   batch_size=64)\n",
        "\n",
        "model.save('badarchitecture.h5')"
      ],
      "execution_count": null,
      "outputs": [
        {
          "output_type": "stream",
          "name": "stdout",
          "text": [
            "Epoch 1/15\n",
            "90/90 [==============================] - 174s 1s/step - loss: 1.0699 - accuracy: 0.6059 - val_loss: 8.5859 - val_accuracy: 0.4062\n",
            "\n",
            "Epoch 00001: val_accuracy improved from -inf to 0.40617, saving model to /tmp/checkpoint\n",
            "INFO:tensorflow:Assets written to: /tmp/checkpoint/assets\n",
            "Epoch 2/15\n",
            "90/90 [==============================] - 99s 1s/step - loss: 0.2293 - accuracy: 0.9189 - val_loss: 5.1156 - val_accuracy: 0.5112\n",
            "\n",
            "Epoch 00002: val_accuracy improved from 0.40617 to 0.51124, saving model to /tmp/checkpoint\n",
            "INFO:tensorflow:Assets written to: /tmp/checkpoint/assets\n",
            "Epoch 3/15\n",
            "90/90 [==============================] - 98s 1s/step - loss: 0.1101 - accuracy: 0.9662 - val_loss: 0.4022 - val_accuracy: 0.9028\n",
            "\n",
            "Epoch 00003: val_accuracy improved from 0.51124 to 0.90277, saving model to /tmp/checkpoint\n",
            "INFO:tensorflow:Assets written to: /tmp/checkpoint/assets\n",
            "Epoch 4/15\n",
            "90/90 [==============================] - 98s 1s/step - loss: 0.0871 - accuracy: 0.9746 - val_loss: 1.8426 - val_accuracy: 0.7235\n",
            "\n",
            "Epoch 00004: val_accuracy did not improve from 0.90277\n",
            "Epoch 5/15\n",
            "90/90 [==============================] - 97s 1s/step - loss: 0.0678 - accuracy: 0.9803 - val_loss: 12.6378 - val_accuracy: 0.3314\n",
            "\n",
            "Epoch 00005: val_accuracy did not improve from 0.90277\n",
            "Epoch 6/15\n",
            "90/90 [==============================] - 97s 1s/step - loss: 0.0602 - accuracy: 0.9841 - val_loss: 0.5712 - val_accuracy: 0.8787\n",
            "\n",
            "Epoch 00006: val_accuracy did not improve from 0.90277\n",
            "\n",
            "Epoch 00006: ReduceLROnPlateau reducing learning rate to 0.00010000000474974513.\n",
            "Epoch 7/15\n",
            "90/90 [==============================] - 97s 1s/step - loss: 0.0117 - accuracy: 0.9962 - val_loss: 0.0070 - val_accuracy: 0.9969\n",
            "\n",
            "Epoch 00007: val_accuracy improved from 0.90277 to 0.99686, saving model to /tmp/checkpoint\n",
            "INFO:tensorflow:Assets written to: /tmp/checkpoint/assets\n",
            "Epoch 8/15\n",
            "90/90 [==============================] - 96s 1s/step - loss: 0.0046 - accuracy: 0.9990 - val_loss: 0.0011 - val_accuracy: 1.0000\n",
            "\n",
            "Epoch 00008: val_accuracy improved from 0.99686 to 1.00000, saving model to /tmp/checkpoint\n",
            "INFO:tensorflow:Assets written to: /tmp/checkpoint/assets\n",
            "Epoch 9/15\n",
            "90/90 [==============================] - 96s 1s/step - loss: 0.0022 - accuracy: 0.9993 - val_loss: 0.0114 - val_accuracy: 0.9969\n",
            "\n",
            "Epoch 00009: val_accuracy did not improve from 1.00000\n",
            "Epoch 10/15\n",
            "90/90 [==============================] - 98s 1s/step - loss: 0.0026 - accuracy: 0.9993 - val_loss: 0.0049 - val_accuracy: 0.9984\n",
            "\n",
            "Epoch 00010: val_accuracy did not improve from 1.00000\n",
            "Epoch 11/15\n",
            "90/90 [==============================] - 97s 1s/step - loss: 0.0010 - accuracy: 0.9997 - val_loss: 0.0013 - val_accuracy: 0.9990\n",
            "\n",
            "Epoch 00011: val_accuracy did not improve from 1.00000\n",
            "\n",
            "Epoch 00011: ReduceLROnPlateau reducing learning rate to 1.0000000474974514e-05.\n",
            "Epoch 12/15\n",
            "90/90 [==============================] - 97s 1s/step - loss: 9.1288e-04 - accuracy: 1.0000 - val_loss: 8.8268e-04 - val_accuracy: 0.9995\n",
            "\n",
            "Epoch 00012: val_accuracy did not improve from 1.00000\n",
            "Epoch 13/15\n",
            "90/90 [==============================] - 97s 1s/step - loss: 7.1128e-04 - accuracy: 0.9997 - val_loss: 1.3222e-04 - val_accuracy: 1.0000\n",
            "\n",
            "Epoch 00013: val_accuracy did not improve from 1.00000\n",
            "Epoch 14/15\n",
            "90/90 [==============================] - 97s 1s/step - loss: 2.4029e-04 - accuracy: 1.0000 - val_loss: 5.7887e-04 - val_accuracy: 0.9995\n",
            "\n",
            "Epoch 00014: val_accuracy did not improve from 1.00000\n",
            "\n",
            "Epoch 00014: ReduceLROnPlateau reducing learning rate to 1.0000000656873453e-06.\n",
            "Epoch 15/15\n",
            "90/90 [==============================] - 98s 1s/step - loss: 4.7925e-04 - accuracy: 0.9998 - val_loss: 7.1965e-04 - val_accuracy: 0.9995\n",
            "\n",
            "Epoch 00015: val_accuracy did not improve from 1.00000\n"
          ]
        }
      ]
    },
    {
      "cell_type": "markdown",
      "metadata": {
        "id": "XIv75ivejYww"
      },
      "source": [
        "# Aplicando nos dados de teste"
      ]
    },
    {
      "cell_type": "code",
      "metadata": {
        "colab": {
          "base_uri": "https://localhost:8080/"
        },
        "id": "DYFwXF6ycif_",
        "outputId": "902895e8-cb5f-415e-ba02-35fb9dcf13c9"
      },
      "source": [
        "pred = model.predict(test_generator)\n",
        "pred = np.argmax(pred,axis=1)\n",
        "# 5 primeiros resultados\n",
        "pred[:5]"
      ],
      "execution_count": null,
      "outputs": [
        {
          "output_type": "execute_result",
          "data": {
            "text/plain": [
              "array([8, 7, 4, 4, 7])"
            ]
          },
          "metadata": {},
          "execution_count": 19
        }
      ]
    },
    {
      "cell_type": "code",
      "metadata": {
        "colab": {
          "base_uri": "https://localhost:8080/"
        },
        "id": "zbEuRDvZis7f",
        "outputId": "3a7a7da3-d68c-418f-9e17-c0b908ff9634"
      },
      "source": [
        "LABELS = test_generator.class_indices\n",
        "LABELS"
      ],
      "execution_count": null,
      "outputs": [
        {
          "output_type": "execute_result",
          "data": {
            "text/plain": [
              "{'Black Sea Sprat': 0,\n",
              " 'Gilt-Head Bream': 1,\n",
              " 'Hourse Mackerel': 2,\n",
              " 'Red Mullet': 3,\n",
              " 'Red Sea Bream': 4,\n",
              " 'Sea Bass': 5,\n",
              " 'Shrimp': 6,\n",
              " 'Striped Red Mullet': 7,\n",
              " 'Trout': 8}"
            ]
          },
          "metadata": {},
          "execution_count": 20
        }
      ]
    },
    {
      "cell_type": "code",
      "metadata": {
        "colab": {
          "base_uri": "https://localhost:8080/"
        },
        "id": "9n_Ir-Qzi0TO",
        "outputId": "d72d6770-6a04-41b9-bda0-97af3aa13192"
      },
      "source": [
        "Labeled_dict = { value: key for (key,value) in LABELS.items()}\n",
        "Labeled_dict"
      ],
      "execution_count": null,
      "outputs": [
        {
          "output_type": "execute_result",
          "data": {
            "text/plain": [
              "{0: 'Black Sea Sprat',\n",
              " 1: 'Gilt-Head Bream',\n",
              " 2: 'Hourse Mackerel',\n",
              " 3: 'Red Mullet',\n",
              " 4: 'Red Sea Bream',\n",
              " 5: 'Sea Bass',\n",
              " 6: 'Shrimp',\n",
              " 7: 'Striped Red Mullet',\n",
              " 8: 'Trout'}"
            ]
          },
          "metadata": {},
          "execution_count": 21
        }
      ]
    },
    {
      "cell_type": "code",
      "metadata": {
        "id": "tzMq_LyKi4Ad"
      },
      "source": [
        "pred_labeled = [Labeled_dict[i] for i in pred]"
      ],
      "execution_count": null,
      "outputs": []
    },
    {
      "cell_type": "code",
      "metadata": {
        "colab": {
          "base_uri": "https://localhost:8080/"
        },
        "id": "DYJQxr3WjB0I",
        "outputId": "c6ba533e-55a7-4f9d-91c7-17621ae07310"
      },
      "source": [
        "from sklearn.metrics import classification_report\n",
        "y_test = list(test['Label'])\n",
        "\n",
        "print(classification_report(y_test, pred_labeled))"
      ],
      "execution_count": null,
      "outputs": [
        {
          "output_type": "stream",
          "name": "stdout",
          "text": [
            "                    precision    recall  f1-score   support\n",
            "\n",
            "   Black Sea Sprat       1.00      1.00      1.00       166\n",
            "   Gilt-Head Bream       1.00      1.00      1.00       154\n",
            "   Hourse Mackerel       1.00      1.00      1.00       136\n",
            "        Red Mullet       1.00      1.00      1.00       156\n",
            "     Red Sea Bream       1.00      1.00      1.00       143\n",
            "          Sea Bass       1.00      1.00      1.00       150\n",
            "            Shrimp       1.00      1.00      1.00       149\n",
            "Striped Red Mullet       1.00      1.00      1.00       141\n",
            "             Trout       1.00      1.00      1.00       155\n",
            "\n",
            "          accuracy                           1.00      1350\n",
            "         macro avg       1.00      1.00      1.00      1350\n",
            "      weighted avg       1.00      1.00      1.00      1350\n",
            "\n"
          ]
        }
      ]
    },
    {
      "cell_type": "code",
      "metadata": {
        "colab": {
          "base_uri": "https://localhost:8080/",
          "height": 545
        },
        "id": "2-Kxs75pjEwZ",
        "outputId": "2f38090d-3bb3-4f29-e1f5-37cf11300c14"
      },
      "source": [
        "from sklearn.metrics import confusion_matrix\n",
        "import seaborn as sns\n",
        "\n",
        "cf = confusion_matrix(y_test,pred_labeled,normalize='true',labels=list(LABELS.keys()))\n",
        "\n",
        "plt.figure(figsize=(11,7))\n",
        "sns.heatmap(cf,xticklabels=list(LABELS.keys()),yticklabels=list(LABELS.keys()),annot=True)\n",
        "plt.title(\"CONFUSION MATRIX\",fontsize=15)"
      ],
      "execution_count": null,
      "outputs": [
        {
          "output_type": "execute_result",
          "data": {
            "text/plain": [
              "Text(0.5, 1.0, 'CONFUSION MATRIX')"
            ]
          },
          "metadata": {},
          "execution_count": 24
        },
        {
          "output_type": "display_data",
          "data": {
            "image/png": "[encoded data removed]",
            "text/plain": [
              "<Figure size 792x504 with 2 Axes>"
            ]
          },
          "metadata": {
            "needs_background": "light"
          }
        }
      ]
    },
    {
      "cell_type": "code",
      "metadata": {
        "colab": {
          "base_uri": "https://localhost:8080/"
        },
        "id": "f9Xn1MJ9jL_a",
        "outputId": "5c09e7d6-e520-4e1b-8212-dacbaa223809"
      },
      "source": [
        "model.evaluate(test_generator)"
      ],
      "execution_count": null,
      "outputs": [
        {
          "output_type": "stream",
          "name": "stdout",
          "text": [
            "22/22 [==============================] - 17s 756ms/step - loss: 3.5520e-05 - accuracy: 1.0000\n"
          ]
        },
        {
          "output_type": "execute_result",
          "data": {
            "text/plain": [
              "[3.5520373785402626e-05, 1.0]"
            ]
          },
          "metadata": {},
          "execution_count": 25
        }
      ]
    },
    {
      "cell_type": "code",
      "metadata": {
        "id": "QuHaK45YjmCQ"
      },
      "source": [
        "# Comparando com o que ja tinhamos (modelo sem transfer learning)"
      ],
      "execution_count": null,
      "outputs": []
    },
    {
      "cell_type": "markdown",
      "metadata": {
        "id": "iqmis3mLlevL"
      },
      "source": [
        "![image.png](data:image/png;base64,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)"
      ]
    },
    {
      "cell_type": "markdown",
      "metadata": {
        "id": "YBRtPPRNmAg9"
      },
      "source": [
        "Modelo por transferlearning apresentou resultados perfeitos para esse resultado, levando a vitoria para casa sobre o nosso Nemo Finder™ T_T"
      ]
    }
  ]
}